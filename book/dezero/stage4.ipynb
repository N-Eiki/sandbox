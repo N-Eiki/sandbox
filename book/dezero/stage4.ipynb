{
 "cells": [
  {
   "cell_type": "code",
   "execution_count": 1,
   "metadata": {},
   "outputs": [],
   "source": [
    "import numpy as np\n",
    "import dezero.functions as F\n",
    "from dezero import Variable"
   ]
  },
  {
   "cell_type": "code",
   "execution_count": 2,
   "metadata": {},
   "outputs": [
    {
     "name": "stdout",
     "output_type": "stream",
     "text": [
      "variable(0.8414709848078965)\n"
     ]
    }
   ],
   "source": [
    "x = Variable(np.array(1.0))\n",
    "y = F.sin(x)\n",
    "print(y)"
   ]
  },
  {
   "cell_type": "code",
   "execution_count": 3,
   "metadata": {},
   "outputs": [
    {
     "data": {
      "text/plain": [
       "variable([[ 0.84147098  0.90929743  0.14112001]\n",
       "          [-0.7568025  -0.95892427 -0.2794155 ]])"
      ]
     },
     "execution_count": 3,
     "metadata": {},
     "output_type": "execute_result"
    }
   ],
   "source": [
    "x = Variable(np.array([[1,2,3], [4,5,6]]))\n",
    "F.sin(x)"
   ]
  },
  {
   "cell_type": "code",
   "execution_count": 4,
   "metadata": {},
   "outputs": [
    {
     "data": {
      "text/plain": [
       "variable([[11 22 33]\n",
       "          [44 55 66]])"
      ]
     },
     "execution_count": 4,
     "metadata": {},
     "output_type": "execute_result"
    }
   ],
   "source": [
    "c = Variable(np.array([[10, 20, 30], [40, 50, 60]]))\n",
    "x+c"
   ]
  },
  {
   "cell_type": "code",
   "execution_count": 5,
   "metadata": {},
   "outputs": [
    {
     "data": {
      "text/plain": [
       "variable(231)"
      ]
     },
     "execution_count": 5,
     "metadata": {},
     "output_type": "execute_result"
    }
   ],
   "source": [
    "t = x+c\n",
    "y = F.sum(t)\n",
    "y"
   ]
  },
  {
   "cell_type": "code",
   "execution_count": 6,
   "metadata": {},
   "outputs": [
    {
     "data": {
      "text/plain": [
       "(variable(1),\n",
       " variable([[1 1 1]\n",
       "           [1 1 1]]),\n",
       " variable([[1 1 1]\n",
       "           [1 1 1]]),\n",
       " variable([[1 1 1]\n",
       "           [1 1 1]]))"
      ]
     },
     "execution_count": 6,
     "metadata": {},
     "output_type": "execute_result"
    }
   ],
   "source": [
    "y.backward(retain_grad=True)\n",
    "y.grad, t.grad, x.grad, c.grad"
   ]
  },
  {
   "cell_type": "code",
   "execution_count": 7,
   "metadata": {},
   "outputs": [
    {
     "name": "stdout",
     "output_type": "stream",
     "text": [
      "[[1 2 3]\n",
      " [4 5 6]]\n",
      "[1 2 3 4 5 6]\n"
     ]
    }
   ],
   "source": [
    "import numpy as np\n",
    "x = np.array([[1,2,3], [4,5,6]])\n",
    "y = np.reshape(x, (6,))\n",
    "print(x)\n",
    "print(y)"
   ]
  },
  {
   "cell_type": "code",
   "execution_count": 8,
   "metadata": {},
   "outputs": [],
   "source": [
    "from dezero import Function\n",
    "class Reshape(Function):\n",
    "    def __init__(self, shape):\n",
    "        self.shape=shape\n",
    "    def forward(self,x):\n",
    "        self.x_shape = x.shape\n",
    "        y = x.reshape(self.shape)\n",
    "        return y\n",
    "    def backward(self, gy):\n",
    "        return reshape(gy, self.x_shape)"
   ]
  },
  {
   "cell_type": "code",
   "execution_count": 9,
   "metadata": {},
   "outputs": [
    {
     "name": "stdout",
     "output_type": "stream",
     "text": [
      "[[[0.0602721  0.56857985 0.39749557]\n",
      "  [0.26547009 0.91721782 0.37429594]]]\n",
      "[[0.0602721  0.56857985 0.39749557]\n",
      " [0.26547009 0.91721782 0.37429594]]\n",
      "[[0.0602721  0.56857985 0.39749557]\n",
      " [0.26547009 0.91721782 0.37429594]]\n",
      "[[0.0602721  0.56857985 0.39749557]\n",
      " [0.26547009 0.91721782 0.37429594]]\n"
     ]
    }
   ],
   "source": [
    "x = np.random.rand(1,2,3)\n",
    "print(x)\n",
    "y = x.reshape((2,3))\n",
    "print(y)\n",
    "y = x.reshape([2,3])\n",
    "print(y)\n",
    "y = x.reshape(2,3)\n",
    "print(y)"
   ]
  },
  {
   "cell_type": "code",
   "execution_count": 10,
   "metadata": {},
   "outputs": [
    {
     "name": "stdout",
     "output_type": "stream",
     "text": [
      "variable([[-0.04310457  0.7074444   0.37488145]\n",
      "          [-0.81100186  0.66512776  0.73710086]])\n",
      "variable([[-0.04310457  0.7074444   0.37488145]\n",
      "          [-0.81100186  0.66512776  0.73710086]])\n"
     ]
    }
   ],
   "source": [
    "x = Variable(np.random.randn(1,2,3))\n",
    "y = x.reshape((2,3))\n",
    "print(y)\n",
    "y = x.reshape(2,3)\n",
    "print(y)"
   ]
  },
  {
   "cell_type": "code",
   "execution_count": 11,
   "metadata": {},
   "outputs": [
    {
     "data": {
      "text/plain": [
       "array([[1, 4],\n",
       "       [2, 5],\n",
       "       [3, 6]])"
      ]
     },
     "execution_count": 11,
     "metadata": {},
     "output_type": "execute_result"
    }
   ],
   "source": [
    "x = np.array([[1,2,3], [4,5,6]])\n",
    "y = np.transpose(x)\n",
    "y"
   ]
  },
  {
   "cell_type": "code",
   "execution_count": 12,
   "metadata": {},
   "outputs": [
    {
     "name": "stdout",
     "output_type": "stream",
     "text": [
      "variable([[1 2 3]\n",
      "          [4 5 6]])\n"
     ]
    },
    {
     "data": {
      "text/plain": [
       "variable([[1 1 1]\n",
       "          [1 1 1]])"
      ]
     },
     "execution_count": 12,
     "metadata": {},
     "output_type": "execute_result"
    }
   ],
   "source": [
    "x = Variable(np.array([[1,2,3], [4,5,6]]))\n",
    "print(x)\n",
    "y = F.transpose(x)\n",
    "y.backward()\n",
    "x.grad"
   ]
  },
  {
   "cell_type": "code",
   "execution_count": 13,
   "metadata": {},
   "outputs": [
    {
     "name": "stdout",
     "output_type": "stream",
     "text": [
      "[[[[0.3305407  0.74924311 0.10123041 0.19590596]\n",
      "   [0.98338345 0.72593228 0.65803089 0.31911023]\n",
      "   [0.98668651 0.13253125 0.54682684 0.67121247]]\n",
      "\n",
      "  [[0.00276911 0.40627848 0.50530118 0.07081444]\n",
      "   [0.46136546 0.92454273 0.02720188 0.24304346]\n",
      "   [0.9429777  0.57822779 0.11302881 0.20181618]]]]\n",
      "[[[[0.3305407  0.98338345 0.98668651]\n",
      "   [0.74924311 0.72593228 0.13253125]\n",
      "   [0.10123041 0.65803089 0.54682684]\n",
      "   [0.19590596 0.31911023 0.67121247]]]\n",
      "\n",
      "\n",
      " [[[0.00276911 0.46136546 0.9429777 ]\n",
      "   [0.40627848 0.92454273 0.57822779]\n",
      "   [0.50530118 0.02720188 0.11302881]\n",
      "   [0.07081444 0.24304346 0.20181618]]]]\n"
     ]
    }
   ],
   "source": [
    "a,b,c,d = 1,2,3,4\n",
    "x = np.random.rand(a,b,c,d)\n",
    "print(x)\n",
    "y = x.transpose(1,0,3,2)\n",
    "print(y)"
   ]
  },
  {
   "cell_type": "code",
   "execution_count": 14,
   "metadata": {},
   "outputs": [
    {
     "data": {
      "text/plain": [
       "(variable(21), variable([1 1 1 1 1 1]))"
      ]
     },
     "execution_count": 14,
     "metadata": {},
     "output_type": "execute_result"
    }
   ],
   "source": [
    "x = Variable(np.array([1,2,3,4,5,6]))\n",
    "y = F.sum(x)\n",
    "y.backward()\n",
    "y, x.grad"
   ]
  },
  {
   "cell_type": "code",
   "execution_count": 15,
   "metadata": {},
   "outputs": [
    {
     "data": {
      "text/plain": [
       "(variable(21),\n",
       " variable([[1 1 1]\n",
       "           [1 1 1]]))"
      ]
     },
     "execution_count": 15,
     "metadata": {},
     "output_type": "execute_result"
    }
   ],
   "source": [
    "x = Variable(np.array([[1,2,3],[4,5,6]]))\n",
    "y = F.sum(x)\n",
    "y.backward()\n",
    "y, x.grad"
   ]
  },
  {
   "cell_type": "code",
   "execution_count": 16,
   "metadata": {},
   "outputs": [
    {
     "data": {
      "text/plain": [
       "array([5, 7, 9])"
      ]
     },
     "execution_count": 16,
     "metadata": {},
     "output_type": "execute_result"
    }
   ],
   "source": [
    "x = np.array([[1,2,3], [4,5,6]])\n",
    "y = np.sum(x, axis=0)\n",
    "y"
   ]
  },
  {
   "cell_type": "code",
   "execution_count": 17,
   "metadata": {},
   "outputs": [
    {
     "data": {
      "text/plain": [
       "(array([[1, 2, 3],\n",
       "        [4, 5, 6]]),\n",
       " (2, 3),\n",
       " array([[21]]),\n",
       " (1, 1))"
      ]
     },
     "execution_count": 17,
     "metadata": {},
     "output_type": "execute_result"
    }
   ],
   "source": [
    "y = np.sum(x, keepdims=True)\n",
    "x, x.shape,y, y.shape"
   ]
  },
  {
   "cell_type": "code",
   "execution_count": 18,
   "metadata": {},
   "outputs": [
    {
     "name": "stdout",
     "output_type": "stream",
     "text": [
      "(1, 3)\n",
      "(2, 1)\n"
     ]
    },
    {
     "data": {
      "text/plain": [
       "(2, 3)"
      ]
     },
     "execution_count": 18,
     "metadata": {},
     "output_type": "execute_result"
    }
   ],
   "source": [
    "print(np.sum(x, keepdims=True, axis=0).shape)\n",
    "print(np.sum(x, keepdims=True, axis=1).shape)\n",
    "x.shape"
   ]
  },
  {
   "cell_type": "code",
   "execution_count": 19,
   "metadata": {},
   "outputs": [
    {
     "data": {
      "text/plain": [
       "array([[1, 2, 3],\n",
       "       [1, 2, 3]])"
      ]
     },
     "execution_count": 19,
     "metadata": {},
     "output_type": "execute_result"
    }
   ],
   "source": [
    "import numpy as np\n",
    "\n",
    "x = np.array([1,2,3])\n",
    "y = np.broadcast_to(x, (2,3))\n",
    "y"
   ]
  },
  {
   "cell_type": "code",
   "execution_count": 20,
   "metadata": {},
   "outputs": [
    {
     "name": "stdout",
     "output_type": "stream",
     "text": [
      "[[1 2 3]\n",
      " [4 5 6]]\n",
      "-----\n",
      "[[5 7 9]]\n",
      "-----\n",
      "[[ 6]\n",
      " [15]]\n"
     ]
    }
   ],
   "source": [
    "from dezero.utils import sum_to\n",
    "\n",
    "x = np.array([[1,2,3],[4,5,6]])\n",
    "print(x)\n",
    "print(\"-----\")\n",
    "y = sum_to(x, (1,3))\n",
    "print(y)\n",
    "print(\"-----\")\n",
    "y = sum_to(x, (2,1))\n",
    "print(y)"
   ]
  },
  {
   "cell_type": "code",
   "execution_count": 21,
   "metadata": {},
   "outputs": [],
   "source": [
    "from dezero import as_variable\n",
    "\n",
    "class BroadcastTo(Function):\n",
    "    def __init__(self, shape):\n",
    "        self.shape = shape\n",
    "        \n",
    "    def forward(self, x):\n",
    "        self.x_shape = x.shape\n",
    "        y = np.broadcast_to(x, self.shape)\n",
    "        return y\n",
    "    \n",
    "    def backward(self, gy):\n",
    "        gx = sum_to(gy, self.x_shape)\n",
    "        return gx\n",
    "    \n",
    "def broadcast_to(x, shape):\n",
    "    if x.shape==shape:\n",
    "        return as_variable\n",
    "    return BroadcastTo(shape)(x)"
   ]
  },
  {
   "cell_type": "code",
   "execution_count": 22,
   "metadata": {},
   "outputs": [
    {
     "data": {
      "text/plain": [
       "array([11, 12, 13])"
      ]
     },
     "execution_count": 22,
     "metadata": {},
     "output_type": "execute_result"
    }
   ],
   "source": [
    "x0 = np.array([1,2,3])\n",
    "x1 = np.array([10])\n",
    "y = x0+x1\n",
    "y"
   ]
  },
  {
   "cell_type": "code",
   "execution_count": 23,
   "metadata": {},
   "outputs": [
    {
     "data": {
      "text/plain": [
       "variable([11 12 13])"
      ]
     },
     "execution_count": 23,
     "metadata": {},
     "output_type": "execute_result"
    }
   ],
   "source": [
    "x0 = Variable(np.array([1,2,3]))\n",
    "x1 = Variable(np.array([10]))\n",
    "y = x0+x1\n",
    "y"
   ]
  },
  {
   "cell_type": "code",
   "execution_count": 24,
   "metadata": {},
   "outputs": [
    {
     "data": {
      "text/plain": [
       "(variable([11 12 13]), variable([3]))"
      ]
     },
     "execution_count": 24,
     "metadata": {},
     "output_type": "execute_result"
    }
   ],
   "source": [
    "y.backward()\n",
    "y,x1.grad"
   ]
  },
  {
   "cell_type": "code",
   "execution_count": 25,
   "metadata": {},
   "outputs": [
    {
     "data": {
      "text/plain": [
       "32"
      ]
     },
     "execution_count": 25,
     "metadata": {},
     "output_type": "execute_result"
    }
   ],
   "source": [
    "a = np.array([1,2,3])\n",
    "b = np.array([4,5,6])\n",
    "c  = np.dot(a,b)\n",
    "c"
   ]
  },
  {
   "cell_type": "code",
   "execution_count": 26,
   "metadata": {},
   "outputs": [
    {
     "data": {
      "text/plain": [
       "array([[19, 22],\n",
       "       [43, 50]])"
      ]
     },
     "execution_count": 26,
     "metadata": {},
     "output_type": "execute_result"
    }
   ],
   "source": [
    "a = np.array([[1,2], [3,4]])\n",
    "b = np.array([[5,6], [7,8]])\n",
    "c = np.dot(a,b)\n",
    "c"
   ]
  },
  {
   "cell_type": "code",
   "execution_count": 27,
   "metadata": {},
   "outputs": [],
   "source": [
    "class MuatMul(Function):\n",
    "    def forward(self, x,W):\n",
    "        y = x.dot(W)\n",
    "        return y\n",
    "    def backward(self,gy):\n",
    "        x,W = self.inputs\n",
    "        gx = matmul(gy, W.t)\n",
    "        gW = matmul(x.T, gy)\n",
    "        return gx, gW\n",
    "    \n",
    "def matmul(x,W):\n",
    "    return MatMul()(x,W)"
   ]
  },
  {
   "cell_type": "code",
   "execution_count": 28,
   "metadata": {},
   "outputs": [
    {
     "data": {
      "text/plain": [
       "((2, 3), (3, 4))"
      ]
     },
     "execution_count": 28,
     "metadata": {},
     "output_type": "execute_result"
    }
   ],
   "source": [
    "from dezero import Variable\n",
    "import dezero.functions as F\n",
    "x = Variable(np.random.randn(2,3))\n",
    "W = Variable(np.random.randn(3,4))\n",
    "y = F.matmul(x,W)\n",
    "y.backward()\n",
    "x.grad.shape, W.grad.shape"
   ]
  },
  {
   "cell_type": "code",
   "execution_count": 29,
   "metadata": {},
   "outputs": [
    {
     "data": {
      "text/plain": [
       "(2, 4)"
      ]
     },
     "execution_count": 29,
     "metadata": {},
     "output_type": "execute_result"
    }
   ],
   "source": [
    "y.shape"
   ]
  },
  {
   "cell_type": "code",
   "execution_count": 30,
   "metadata": {},
   "outputs": [
    {
     "data": {
      "text/plain": [
       "variable([[ 2.25444743 -2.30216816  1.02176734 -2.24105474]\n",
       "          [-0.19599026 -0.19293763  0.12593365 -1.24833483]])"
      ]
     },
     "execution_count": 30,
     "metadata": {},
     "output_type": "execute_result"
    }
   ],
   "source": [
    "y"
   ]
  },
  {
   "cell_type": "code",
   "execution_count": 31,
   "metadata": {},
   "outputs": [
    {
     "data": {
      "text/plain": [
       "array([[variable(2.254447432496369), variable(-2.3021681598489723),\n",
       "        variable(1.0217673430748635), variable(-2.2410547370850544)],\n",
       "       [variable(-0.19599025973490178), variable(-0.19293762914515789),\n",
       "        variable(0.12593364778101745), variable(-1.2483348264624223)]],\n",
       "      dtype=object)"
      ]
     },
     "execution_count": 31,
     "metadata": {},
     "output_type": "execute_result"
    }
   ],
   "source": [
    "np.dot(x,W)"
   ]
  },
  {
   "cell_type": "code",
   "execution_count": 32,
   "metadata": {},
   "outputs": [],
   "source": [
    "#42\n",
    "import numpy as np\n",
    "np.random.seed(0)\n",
    "x = np.random.rand(100,1)\n",
    "y = 5+ 2*x + np.random.rand(100,1)"
   ]
  },
  {
   "cell_type": "code",
   "execution_count": 33,
   "metadata": {},
   "outputs": [
    {
     "data": {
      "image/png": "[encoded data removed]",
      "text/plain": [
       "<Figure size 432x288 with 1 Axes>"
      ]
     },
     "metadata": {
      "needs_background": "light"
     },
     "output_type": "display_data"
    }
   ],
   "source": [
    "import matplotlib.pyplot as plt\n",
    "plt.scatter(x,y)\n",
    "plt.show()"
   ]
  },
  {
   "cell_type": "code",
   "execution_count": 34,
   "metadata": {},
   "outputs": [],
   "source": [
    "from dezero import Variable\n",
    "import dezero.functions as F\n",
    "\n",
    "x,y = Variable(x), Variable(y)\n",
    "\n",
    "W = Variable(np.zeros((1,1)))\n",
    "b = Variable(np.zeros(1))\n",
    "\n",
    "def predict(x):\n",
    "    y = F.matmul(x,W)+b\n",
    "    return y"
   ]
  },
  {
   "cell_type": "code",
   "execution_count": 35,
   "metadata": {},
   "outputs": [
    {
     "name": "stdout",
     "output_type": "stream",
     "text": [
      "variable([[0.]]) variable([0.])\n",
      "variable([[2.11807369]]) variable([5.46608905]) variable(0.07908606512411756)\n"
     ]
    }
   ],
   "source": [
    "def mean_squared_error(x0,x1):\n",
    "    diff = x0-x1\n",
    "    return F.sum(diff**2)/len(diff)\n",
    "\n",
    "lr = 0.1\n",
    "iters=100\n",
    "print(W, b)\n",
    "for i in range(iters):\n",
    "    y_pred = predict(x)\n",
    "    loss = mean_squared_error(y, y_pred)\n",
    "    \n",
    "    W.cleargrad()\n",
    "    b.cleargrad()\n",
    "    loss.backward()\n",
    "    W.data -=lr*W.grad.data\n",
    "    b.data -=lr*b.grad.data\n",
    "print(W, b, loss)"
   ]
  },
  {
   "cell_type": "code",
   "execution_count": 36,
   "metadata": {},
   "outputs": [
    {
     "data": {
      "text/plain": [
       "<matplotlib.collections.PathCollection at 0x11a4a2bb0>"
      ]
     },
     "execution_count": 36,
     "metadata": {},
     "output_type": "execute_result"
    },
    {
     "data": {
      "image/png": "[encoded data removed]",
      "text/plain": [
       "<Figure size 432x288 with 1 Axes>"
      ]
     },
     "metadata": {
      "needs_background": "light"
     },
     "output_type": "display_data"
    }
   ],
   "source": [
    "x = np.arange(0,1, 0.01)\n",
    "y = W.data * x + b.data\n",
    "plt.scatter(x, y, color=\"red\")"
   ]
  },
  {
   "cell_type": "code",
   "execution_count": 37,
   "metadata": {},
   "outputs": [],
   "source": [
    "class MeanSquaredError(Function):\n",
    "    def forward(self, x0,x1):\n",
    "        diff = x0-x1\n",
    "        y = (diff**2).sum()/len(diff)\n",
    "        return y\n",
    "    \n",
    "    def backward(self, gy):\n",
    "        x0, x1 = self.inputs\n",
    "        diff = x0 - x1\n",
    "        gy = broadcast_to(gy, diff.shape)\n",
    "        gx0 = gy*diff*(2./len(diff))\n",
    "        gx1 = -gx0\n",
    "        return gx0, gx1\n",
    "    \n",
    "def mean_squared_error(x0, x1):\n",
    "    return MeanSquaredError()(x0,x1)"
   ]
  },
  {
   "cell_type": "code",
   "execution_count": 38,
   "metadata": {},
   "outputs": [],
   "source": [
    "#ニューラルネットワーク\n",
    "\n",
    "def linear_simple(x, W, b=None):\n",
    "    x,W  = as_variable(x), as_variable(W)\n",
    "    t = matmul(x,W)\n",
    "    if b is None:\n",
    "        return t\n",
    "    \n",
    "    y = t+b\n",
    "    t.data = None\n",
    "    return y"
   ]
  },
  {
   "cell_type": "code",
   "execution_count": 39,
   "metadata": {},
   "outputs": [
    {
     "data": {
      "text/plain": [
       "<matplotlib.collections.PathCollection at 0x11a5c5dc0>"
      ]
     },
     "execution_count": 39,
     "metadata": {},
     "output_type": "execute_result"
    },
    {
     "data": {
      "image/png": "[encoded data removed]",
      "text/plain": [
       "<Figure size 432x288 with 1 Axes>"
      ]
     },
     "metadata": {
      "needs_background": "light"
     },
     "output_type": "display_data"
    }
   ],
   "source": [
    "np.random.seed(0)\n",
    "x = np.random.rand(100,1)\n",
    "y = np.sin(2 * np.pi *x) + np.random.rand(100, 1)\n",
    "plt.scatter(x,y)"
   ]
  },
  {
   "cell_type": "code",
   "execution_count": 40,
   "metadata": {},
   "outputs": [
    {
     "data": {
      "text/plain": [
       "<matplotlib.collections.PathCollection at 0x11a69f6d0>"
      ]
     },
     "execution_count": 40,
     "metadata": {},
     "output_type": "execute_result"
    },
    {
     "data": {
      "image/png": "[encoded data removed]",
      "text/plain": [
       "<Figure size 432x288 with 1 Axes>"
      ]
     },
     "metadata": {
      "needs_background": "light"
     },
     "output_type": "display_data"
    }
   ],
   "source": [
    "#非線形な変換を行う活性化関数\n",
    "x = np.arange(-10,10, 0.1)\n",
    "y = 1/(1+np.exp(-x))\n",
    "plt.scatter(x,y)"
   ]
  },
  {
   "cell_type": "code",
   "execution_count": 41,
   "metadata": {},
   "outputs": [
    {
     "name": "stdout",
     "output_type": "stream",
     "text": [
      "variable(0.8473695850105871)\n",
      "variable(0.2514286285183606)\n",
      "variable(0.2475948546674987)\n",
      "variable(0.23786120447054812)\n",
      "variable(0.21222231333102928)\n",
      "variable(0.16742181117834165)\n",
      "variable(0.09681932619992666)\n",
      "variable(0.07849528290602334)\n",
      "variable(0.07749729552991153)\n",
      "variable(0.07722132399559316)\n"
     ]
    },
    {
     "data": {
      "image/png": "[encoded data removed]",
      "text/plain": [
       "<Figure size 432x288 with 1 Axes>"
      ]
     },
     "metadata": {
      "needs_background": "light"
     },
     "output_type": "display_data"
    }
   ],
   "source": [
    "import numpy as np\n",
    "from dezero import Variable\n",
    "import dezero.functions as F\n",
    "\n",
    "np.random.seed(0)\n",
    "x = np.random.rand(100,1)\n",
    "y = np.sin(2*np.pi*x)+np.random.rand(100,1)\n",
    "\n",
    "I,H,O = 1,10,1\n",
    "w1 = Variable(0.01*np.random.randn(I,H))\n",
    "b1 = Variable(np.zeros(H))\n",
    "w2 = Variable(0.01*np.random.randn(H,O))\n",
    "b2 = Variable(np.zeros(O))\n",
    "\n",
    "def predict(x):\n",
    "    y = F.linear(x,w1,b1)\n",
    "    y = F.sigmoid(y)\n",
    "    y = F.linear(y, w2, b2)\n",
    "    return y\n",
    "\n",
    "lr = lr=0.2\n",
    "iters = 10000\n",
    "\n",
    "for i in range(iters):\n",
    "    y_pred = predict(x)\n",
    "    loss = F.mean_squared_error(y, y_pred)\n",
    "    w1.cleargrad()\n",
    "    b1.cleargrad()\n",
    "    w2.cleargrad()\n",
    "    b2.cleargrad()\n",
    "    loss.backward()\n",
    "    \n",
    "    w1.data -= lr * w1.grad.data\n",
    "    b1.data -= lr * b1.grad.data\n",
    "    w2.data -= lr * w2.grad.data\n",
    "    b2.data -= lr * b2.grad.data\n",
    "    if i % 1000==0:\n",
    "        print(loss)\n",
    "        \n",
    "plt.scatter(x, y, s=10)\n",
    "plt.xlabel('x')\n",
    "plt.ylabel('y')\n",
    "t = np.arange(0, 1, .01)[:, np.newaxis]\n",
    "y_pred = predict(t)\n",
    "plt.plot(t, y_pred.data, color='r')\n",
    "plt.show()\n"
   ]
  },
  {
   "cell_type": "code",
   "execution_count": 42,
   "metadata": {},
   "outputs": [],
   "source": [
    "class Parameter(Variable):\n",
    "    pass"
   ]
  },
  {
   "cell_type": "code",
   "execution_count": 43,
   "metadata": {},
   "outputs": [
    {
     "name": "stdout",
     "output_type": "stream",
     "text": [
      "True\n",
      "False\n",
      "False\n"
     ]
    }
   ],
   "source": [
    "from dezero import Variable, Parameter\n",
    "x  =Variable(np.array(1.0))\n",
    "p = Parameter(np.array(2.0))\n",
    "y = x*p\n",
    "print(isinstance(p, Parameter))\n",
    "print(isinstance(x, Parameter))\n",
    "print(isinstance(y, Parameter))"
   ]
  },
  {
   "cell_type": "code",
   "execution_count": 44,
   "metadata": {},
   "outputs": [],
   "source": [
    "# from dezero.core import Parameter\n",
    "\n",
    "# class Layer:\n",
    "#     def __init__(self):\n",
    "#         self.__params = set()\n",
    "        \n",
    "#     def __setattr__(self, name, value):\n",
    "#         if isinstance(value, Parameter):\n",
    "#             self._params.add(name)\n",
    "#         super().__setattr__(name, value)"
   ]
  },
  {
   "cell_type": "code",
   "execution_count": 45,
   "metadata": {},
   "outputs": [
    {
     "name": "stdout",
     "output_type": "stream",
     "text": [
      "{'p1', 'p2'}\n",
      "p1 variable(1)\n",
      "p2 variable(2)\n"
     ]
    }
   ],
   "source": [
    "from dezero import Layer\n",
    "\n",
    "layer = Layer()\n",
    "layer.p1 = Parameter(np.array(1))\n",
    "layer.p2 = Parameter(np.array(2))\n",
    "layer.p3 = Variable(np.array(3))\n",
    "layer.p4 = \"test\"\n",
    "\n",
    "print(layer._params)\n",
    "for name in layer._params:\n",
    "    print(name, layer.__dict__[name])"
   ]
  },
  {
   "cell_type": "code",
   "execution_count": 46,
   "metadata": {},
   "outputs": [],
   "source": [
    "import weakref \n",
    "class Layer:\n",
    "    def __call__(self, *inputs):\n",
    "        outputs = self.forward(*input)\n",
    "        if not isinstance(outputs, tuple):\n",
    "            outputs = (outputs,)\n",
    "            \n",
    "        self.inputs = [weakref.ref(x) for x in inputs]\n",
    "        self.outputs = [weakref.ref(y) for y in outputs]\n",
    "        return outputs if len(outputs)> 1 else outputs[0]\n",
    "    \n",
    "    def forward(self, inputs):\n",
    "        raise NotImplementedError()\n",
    "        \n",
    "    def params(self):\n",
    "        for  name in self._params:\n",
    "            yield self.__dict__[name]\n",
    "            \n",
    "    def cleargrads(self):\n",
    "        for param in self.params():\n",
    "            param.cleargrad()\n",
    "            \n"
   ]
  },
  {
   "cell_type": "code",
   "execution_count": 47,
   "metadata": {},
   "outputs": [
    {
     "name": "stdout",
     "output_type": "stream",
     "text": [
      "variable(0.8165178492839196)\n",
      "variable(0.24990280802148895)\n",
      "variable(0.24609876581126014)\n",
      "variable(0.23721590814318072)\n",
      "variable(0.20793216413350174)\n",
      "variable(0.12311905720649353)\n",
      "variable(0.0788816650635515)\n",
      "variable(0.07655073683421633)\n",
      "variable(0.07637803086238223)\n",
      "variable(0.07618764131185568)\n"
     ]
    }
   ],
   "source": [
    "import numpy as np\n",
    "from dezero  import Variable\n",
    "import dezero.functions as F\n",
    "import dezero.layers as L\n",
    "\n",
    "np.random.seed(0)\n",
    "x = np.random.rand(100, 1)\n",
    "y = np.sin(2*np.pi*x) + np.random.rand(100,1)\n",
    "l1 = L.Linear(10)\n",
    "l2 = L.Linear(1)\n",
    "\n",
    "def predict(x):\n",
    "    y = l1(x)\n",
    "    y = F.sigmoid(y)\n",
    "    y = l2(y)\n",
    "    return y\n",
    "\n",
    "lr = 0.2\n",
    "iters = 10000\n",
    "\n",
    "for i in range(iters):\n",
    "    y_pred = predict(x)\n",
    "    loss = F.mean_squared_error(y, y_pred)\n",
    "    l1.cleargrads()\n",
    "    l2.cleargrads()\n",
    "    loss.backward()\n",
    "    \n",
    "    for l in [l1,l2]:\n",
    "        for p in l.params():\n",
    "            p.data -=lr*p.grad.data\n",
    "    \n",
    "    if i % 1000 ==0:\n",
    "        print(loss)"
   ]
  },
  {
   "cell_type": "code",
   "execution_count": 48,
   "metadata": {},
   "outputs": [],
   "source": [
    "class TwoLayerNet(Layer):\n",
    "    def __init__(self, hidden_size, out_size):\n",
    "        super().__init__()\n",
    "        self.l1 = L.Linear(hidden_size)\n",
    "        self.l2 = L.Linear(out_size)\n",
    "        \n",
    "    def forward(self, x):\n",
    "        y = F.sigmoid(self.l1(x))\n",
    "        y = self.l2(y)\n",
    "        return y"
   ]
  },
  {
   "cell_type": "code",
   "execution_count": 49,
   "metadata": {},
   "outputs": [],
   "source": [
    "from dezero import Layer\n",
    "from dezero import utils\n",
    "\n",
    "class Model(Layer):\n",
    "    def plot(self, *inputs, to_file=\"model.png\"):\n",
    "        y = self.forward(*inputs)\n",
    "        return utils.plot_dot_graph(y, verbose=True, to_file=to_file)"
   ]
  },
  {
   "cell_type": "code",
   "execution_count": 50,
   "metadata": {},
   "outputs": [
    {
     "data": {
      "image/png": "[encoded data removed]",
      "text/plain": [
       "<IPython.core.display.Image object>"
      ]
     },
     "execution_count": 50,
     "metadata": {},
     "output_type": "execute_result"
    }
   ],
   "source": [
    "from dezero.models  import Model\n",
    "\n",
    "class TwoLayerNet(Model):\n",
    "    def __init__(self, hidden_size, out_size):\n",
    "        super().__init__()\n",
    "        self.l1 = L.Linear(hidden_size)\n",
    "        self.l2 = L.Linear(out_size)\n",
    "        \n",
    "    def forward(self, x):\n",
    "        y = F.sigmoid(self.l1(x))\n",
    "        y = self.l2(y)\n",
    "        return y\n",
    "        \n",
    "x = Variable(np.random.randn(5,10),name=\"x\")\n",
    "model = TwoLayerNet(100, 10)\n",
    "model.plot(x)"
   ]
  },
  {
   "cell_type": "code",
   "execution_count": 51,
   "metadata": {},
   "outputs": [
    {
     "name": "stdout",
     "output_type": "stream",
     "text": [
      "variable(1.1009717984850773)\n",
      "variable(0.4711228869325717)\n",
      "variable(0.4698283100627154)\n",
      "variable(0.46916497243708827)\n",
      "variable(0.46854479360395535)\n",
      "variable(0.46796639533987855)\n",
      "variable(0.4674451169931742)\n",
      "variable(0.46697156802092743)\n",
      "variable(0.46650229067591503)\n",
      "variable(0.46597041771732534)\n"
     ]
    }
   ],
   "source": [
    "from dezero.models  import Model\n",
    "\n",
    "\n",
    "        \n",
    "x = np.random.randn(100,1)\n",
    "y = np.sin(2*np.pi*x) + np.random.rand(100, 1)\n",
    "\n",
    "lr =0.2\n",
    "maxx_iter = 10000\n",
    "hidden_size = 10\n",
    "\n",
    "\n",
    "class TwoLayerNet(Model):\n",
    "    def __init__(self, hidden_size, out_size):\n",
    "        super().__init__()\n",
    "        self.l1 = L.Linear(hidden_size)\n",
    "        self.l2 = L.Linear(out_size)\n",
    "        \n",
    "    def forward(self, x):\n",
    "        y = F.sigmoid(self.l1(x))\n",
    "        y = self.l2(y)\n",
    "        return y\n",
    "\n",
    "model = TwoLayerNet(hidden_size, 1)\n",
    "\n",
    "for i in range(iters):\n",
    "    y_pred = model(x)\n",
    "    loss = F.mean_squared_error(y, y_pred)\n",
    "    model.cleargrads()\n",
    "    loss.backward()\n",
    "    \n",
    "    for p in model.params():\n",
    "        p.data -= lr*p.grad.data\n",
    "    \n",
    "    if i % 1000==0:\n",
    "        print(loss)"
   ]
  },
  {
   "cell_type": "code",
   "execution_count": 52,
   "metadata": {},
   "outputs": [],
   "source": [
    "import dezero.models as M"
   ]
  },
  {
   "cell_type": "code",
   "execution_count": 53,
   "metadata": {},
   "outputs": [],
   "source": [
    "model = M.MLP((10,1))\n",
    "model = M.MLP((10, 20, 30, 40, 1))"
   ]
  },
  {
   "cell_type": "code",
   "execution_count": 54,
   "metadata": {},
   "outputs": [],
   "source": [
    "class Optimizer:\n",
    "    def __init__(self):\n",
    "        self.target = None\n",
    "        self.hooks = []\n",
    "        \n",
    "    def setup(self, target):\n",
    "        self.target = target\n",
    "        return self\n",
    "    \n",
    "    def update(self):\n",
    "        params = [p for p in self.target.params() if p.grad is not None]\n",
    "        for f in self.hooks:\n",
    "            f(params)\n",
    "            \n",
    "        for params in params:\n",
    "            self.update_one(param)\n",
    "    \n",
    "    def update_one(self, param):\n",
    "        raise NotImplementedError()\n",
    "        \n",
    "    def add_hook(self, f):\n",
    "        self.hooks.append(f)"
   ]
  },
  {
   "cell_type": "code",
   "execution_count": 55,
   "metadata": {},
   "outputs": [],
   "source": [
    "#SGDの実装\n",
    "class SGD(Optimizer):\n",
    "    def __init__(self, lr=0.01):\n",
    "        super().__init__()\n",
    "        self.lr = lr\n",
    "        \n",
    "    def update_one(self, param):\n",
    "        param.data -= self.lr * param.grad.data"
   ]
  },
  {
   "cell_type": "code",
   "execution_count": 56,
   "metadata": {},
   "outputs": [
    {
     "name": "stdout",
     "output_type": "stream",
     "text": [
      "variable(0.8165178492839196)\n",
      "variable(0.24990280802148895)\n",
      "variable(0.24609876581126014)\n",
      "variable(0.23721590814318072)\n",
      "variable(0.20793216413350174)\n",
      "variable(0.12311905720649353)\n",
      "variable(0.0788816650635515)\n",
      "variable(0.07655073683421633)\n",
      "variable(0.07637803086238223)\n",
      "variable(0.07618764131185568)\n"
     ]
    }
   ],
   "source": [
    "from dezero import optimizers\n",
    "import dezero.functions as F\n",
    "from dezero.models import MLP\n",
    "\n",
    "np.random.seed(0)\n",
    "x = np.random.rand(100,1)\n",
    "y = np.sin(2*np.pi*x)+np.random.rand(100,1)\n",
    "\n",
    "lr = 0.2\n",
    "iters = 10000\n",
    "hidden_size=10\n",
    "\n",
    "model = MLP((hidden_size,1))\n",
    "optimizer = optimizers.SGD(lr)\n",
    "optimizer.setup(model)\n",
    "for i in range(iters):\n",
    "    y_pred = model(x)\n",
    "    loss = F.mean_squared_error(y, y_pred)\n",
    "    model.cleargrads()\n",
    "    loss.backward()\n",
    "    optimizer.update()\n",
    "    if i % 1000==0:\n",
    "        print(loss)"
   ]
  },
  {
   "cell_type": "code",
   "execution_count": 57,
   "metadata": {},
   "outputs": [],
   "source": [
    "import numpy as np\n",
    "\n",
    "class MomentumSGD(Optimizer):\n",
    "    def __init__(self, lr=0.01, momentum=0.9):\n",
    "        super().__init__()\n",
    "        self.lr = lr\n",
    "        self.momentum = momentum\n",
    "        self.vs = {}\n",
    "    \n",
    "    def update_one(self, param):\n",
    "        v_key = id(param)\n",
    "        if v_key not in self.vs:\n",
    "            self.vs[v_key] = np.zeros_like(param.data)\n",
    "        v = self.vs[v_key]\n",
    "        v *= self.momentum\n",
    "        v -= self.lr * param.grad.data\n",
    "        param.data +=v"
   ]
  },
  {
   "cell_type": "code",
   "execution_count": 58,
   "metadata": {},
   "outputs": [
    {
     "data": {
      "text/plain": [
       "variable([4 5 6])"
      ]
     },
     "execution_count": 58,
     "metadata": {},
     "output_type": "execute_result"
    }
   ],
   "source": [
    "import numpy as np\n",
    "from dezero import Variable\n",
    "import dezero.functions as F\n",
    "\n",
    "x = Variable(np.array([[1,2,3],[4,5,6]]))\n",
    "y = F.get_item(x,1)\n",
    "y"
   ]
  },
  {
   "cell_type": "code",
   "execution_count": 59,
   "metadata": {},
   "outputs": [],
   "source": [
    "y.backward()"
   ]
  },
  {
   "cell_type": "code",
   "execution_count": 60,
   "metadata": {},
   "outputs": [
    {
     "data": {
      "text/plain": [
       "variable([[0 0 0]\n",
       "          [1 1 1]])"
      ]
     },
     "execution_count": 60,
     "metadata": {},
     "output_type": "execute_result"
    }
   ],
   "source": [
    "x.grad"
   ]
  },
  {
   "cell_type": "code",
   "execution_count": 61,
   "metadata": {},
   "outputs": [
    {
     "data": {
      "text/plain": [
       "variable([[1 2 3]\n",
       "          [1 2 3]\n",
       "          [4 5 6]])"
      ]
     },
     "execution_count": 61,
     "metadata": {},
     "output_type": "execute_result"
    }
   ],
   "source": [
    "x = Variable(np.array([[1,2,3],[4,5,6]]))\n",
    "indices = np.array([0,0,1])\n",
    "y = F.get_item(x, indices)\n",
    "y"
   ]
  },
  {
   "cell_type": "code",
   "execution_count": 62,
   "metadata": {},
   "outputs": [
    {
     "name": "stdout",
     "output_type": "stream",
     "text": [
      "variable([4 5 6])\n",
      "variable([[1 2 3]\n",
      "          [4 5 6]])\n"
     ]
    }
   ],
   "source": [
    "Variable.__getitem__ = F.get_item\n",
    "y = x[1]\n",
    "print(y)\n",
    "y = x[:2]\n",
    "print(y)"
   ]
  },
  {
   "cell_type": "code",
   "execution_count": 63,
   "metadata": {},
   "outputs": [
    {
     "data": {
      "text/plain": [
       "variable([[0.01706783 0.14927257 0.14414914]])"
      ]
     },
     "execution_count": 63,
     "metadata": {},
     "output_type": "execute_result"
    }
   ],
   "source": [
    "from dezero.models import MLP\n",
    "model = MLP((10, 3))\n",
    "\n",
    "x = np.array([[0.2, 0.4]])\n",
    "y = model(x)\n",
    "y"
   ]
  },
  {
   "cell_type": "code",
   "execution_count": 64,
   "metadata": {},
   "outputs": [],
   "source": [
    "from dezero import Variable, as_variable\n",
    "import dezero.functions as F\n",
    "\n",
    "def softmax1d(x):\n",
    "    x = as_variable(x)\n",
    "    y = F.exp(x)\n",
    "    sum_y = F.sum(y)\n",
    "    return y/sum_y"
   ]
  },
  {
   "cell_type": "code",
   "execution_count": 65,
   "metadata": {},
   "outputs": [
    {
     "name": "stdout",
     "output_type": "stream",
     "text": [
      "variable([[0.25337848 0.30853735 0.38821423]])\n",
      "variable([[0.31239678 0.33011233 0.35749089]])\n"
     ]
    }
   ],
   "source": [
    "x = Variable(np.array([[0.2, -0.4]]))\n",
    "y = model(x)\n",
    "p = softmax1d(y)\n",
    "print(y)\n",
    "print(p)"
   ]
  },
  {
   "cell_type": "code",
   "execution_count": 66,
   "metadata": {},
   "outputs": [],
   "source": [
    "def softmax_simple(x,axis=1):\n",
    "    x = as_variable(x)\n",
    "    y = F.exp(x)\n",
    "    sum_y = F.sum(y, axis=axis, keepdims=True)\n",
    "    return y/sum_y"
   ]
  },
  {
   "cell_type": "code",
   "execution_count": 67,
   "metadata": {},
   "outputs": [
    {
     "data": {
      "text/plain": [
       "variable([[0.31239678 0.33011233 0.35749089]])"
      ]
     },
     "execution_count": 67,
     "metadata": {},
     "output_type": "execute_result"
    }
   ],
   "source": [
    "softmax_simple(y)"
   ]
  },
  {
   "cell_type": "code",
   "execution_count": 68,
   "metadata": {},
   "outputs": [],
   "source": [
    "#cross entropy error\n",
    "\n",
    "def softmax_cross_entropy_simple(x,t):\n",
    "    x,t = as_variable(x), as_variable(t)\n",
    "    N = x.shape[0]\n",
    "    p = F.softmax(x)\n",
    "    p = F.clip(p, 1e-15, 1.0)\n",
    "    log_p = F.log(p)\n",
    "    tlog_p = log_p[np.arange(N), t.data]\n",
    "    y = -1*F.sum(tlog_p)/N\n",
    "    return y"
   ]
  },
  {
   "cell_type": "code",
   "execution_count": 69,
   "metadata": {},
   "outputs": [
    {
     "data": {
      "text/plain": [
       "variable(1.1784240941964543)"
      ]
     },
     "execution_count": 69,
     "metadata": {},
     "output_type": "execute_result"
    }
   ],
   "source": [
    "x = np.array([[0.2, -0.4], [0.3, 0.5], [1.3, -3.2], [2.1, 0.3]])\n",
    "t = np.array([[2,0,1,0]])\n",
    "y = model(x)\n",
    "loss = F.softmax_cross_entropy_simple(y,t)\n",
    "loss"
   ]
  },
  {
   "cell_type": "code",
   "execution_count": 70,
   "metadata": {},
   "outputs": [
    {
     "name": "stdout",
     "output_type": "stream",
     "text": [
      "(300, 2)\n",
      "(300,)\n",
      "[-0.12995958 -0.00324155] 1\n",
      "[ 0.3282343  -0.54941994] 0\n"
     ]
    }
   ],
   "source": [
    "import dezero\n",
    "x,t = dezero.datasets.get_spiral(train=True)\n",
    "print(x.shape)\n",
    "print(t.shape)\n",
    "\n",
    "print(x[10], t[10])\n",
    "print(x[110], t[110])"
   ]
  },
  {
   "cell_type": "code",
   "execution_count": 71,
   "metadata": {},
   "outputs": [],
   "source": [
    "import math\n",
    "import numpy as np\n",
    "import dezero\n",
    "from dezero import optimizers\n",
    "import dezero.functions as F\n",
    "from dezero.models import MLP\n",
    "\n",
    "max_epoch = 300\n",
    "batch_size=30\n",
    "hidden_size=10\n",
    "lr=1\n",
    "\n",
    "x,t = dezero.datasets.get_spiral(train=True)\n",
    "model = MLP((hidden_size, 3))\n",
    "optimizer = optimizers.SGD(lr).setup(model)"
   ]
  },
  {
   "cell_type": "code",
   "execution_count": 72,
   "metadata": {},
   "outputs": [
    {
     "name": "stdout",
     "output_type": "stream",
     "text": [
      "epoch 1, loss 1.13\n",
      "epoch 2, loss 1.05\n",
      "epoch 3, loss 0.95\n",
      "epoch 4, loss 0.92\n",
      "epoch 5, loss 0.87\n",
      "epoch 6, loss 0.89\n",
      "epoch 7, loss 0.84\n",
      "epoch 8, loss 0.78\n",
      "epoch 9, loss 0.80\n",
      "epoch 10, loss 0.79\n",
      "epoch 11, loss 0.78\n",
      "epoch 12, loss 0.76\n",
      "epoch 13, loss 0.77\n",
      "epoch 14, loss 0.76\n",
      "epoch 15, loss 0.76\n",
      "epoch 16, loss 0.77\n",
      "epoch 17, loss 0.78\n",
      "epoch 18, loss 0.74\n",
      "epoch 19, loss 0.74\n",
      "epoch 20, loss 0.72\n",
      "epoch 21, loss 0.73\n",
      "epoch 22, loss 0.74\n",
      "epoch 23, loss 0.77\n",
      "epoch 24, loss 0.73\n",
      "epoch 25, loss 0.74\n",
      "epoch 26, loss 0.74\n",
      "epoch 27, loss 0.72\n",
      "epoch 28, loss 0.72\n",
      "epoch 29, loss 0.72\n",
      "epoch 30, loss 0.73\n",
      "epoch 31, loss 0.71\n",
      "epoch 32, loss 0.72\n",
      "epoch 33, loss 0.72\n",
      "epoch 34, loss 0.71\n",
      "epoch 35, loss 0.72\n",
      "epoch 36, loss 0.71\n",
      "epoch 37, loss 0.71\n",
      "epoch 38, loss 0.70\n",
      "epoch 39, loss 0.71\n",
      "epoch 40, loss 0.70\n",
      "epoch 41, loss 0.71\n",
      "epoch 42, loss 0.70\n",
      "epoch 43, loss 0.70\n",
      "epoch 44, loss 0.70\n",
      "epoch 45, loss 0.69\n",
      "epoch 46, loss 0.69\n",
      "epoch 47, loss 0.71\n",
      "epoch 48, loss 0.70\n",
      "epoch 49, loss 0.69\n",
      "epoch 50, loss 0.69\n",
      "epoch 51, loss 0.68\n",
      "epoch 52, loss 0.67\n",
      "epoch 53, loss 0.68\n",
      "epoch 54, loss 0.70\n",
      "epoch 55, loss 0.68\n",
      "epoch 56, loss 0.66\n",
      "epoch 57, loss 0.67\n",
      "epoch 58, loss 0.66\n",
      "epoch 59, loss 0.64\n",
      "epoch 60, loss 0.64\n",
      "epoch 61, loss 0.64\n",
      "epoch 62, loss 0.63\n",
      "epoch 63, loss 0.63\n",
      "epoch 64, loss 0.61\n",
      "epoch 65, loss 0.61\n",
      "epoch 66, loss 0.60\n",
      "epoch 67, loss 0.62\n",
      "epoch 68, loss 0.59\n",
      "epoch 69, loss 0.60\n",
      "epoch 70, loss 0.57\n",
      "epoch 71, loss 0.58\n",
      "epoch 72, loss 0.57\n",
      "epoch 73, loss 0.56\n",
      "epoch 74, loss 0.56\n",
      "epoch 75, loss 0.55\n",
      "epoch 76, loss 0.55\n",
      "epoch 77, loss 0.55\n",
      "epoch 78, loss 0.54\n",
      "epoch 79, loss 0.53\n",
      "epoch 80, loss 0.53\n",
      "epoch 81, loss 0.52\n",
      "epoch 82, loss 0.53\n",
      "epoch 83, loss 0.52\n",
      "epoch 84, loss 0.49\n",
      "epoch 85, loss 0.50\n",
      "epoch 86, loss 0.49\n",
      "epoch 87, loss 0.49\n",
      "epoch 88, loss 0.48\n",
      "epoch 89, loss 0.47\n",
      "epoch 90, loss 0.47\n",
      "epoch 91, loss 0.46\n",
      "epoch 92, loss 0.46\n",
      "epoch 93, loss 0.45\n",
      "epoch 94, loss 0.44\n",
      "epoch 95, loss 0.45\n",
      "epoch 96, loss 0.44\n",
      "epoch 97, loss 0.43\n",
      "epoch 98, loss 0.43\n",
      "epoch 99, loss 0.42\n",
      "epoch 100, loss 0.43\n",
      "epoch 101, loss 0.42\n",
      "epoch 102, loss 0.41\n",
      "epoch 103, loss 0.42\n",
      "epoch 104, loss 0.41\n",
      "epoch 105, loss 0.40\n",
      "epoch 106, loss 0.40\n",
      "epoch 107, loss 0.40\n",
      "epoch 108, loss 0.39\n",
      "epoch 109, loss 0.38\n",
      "epoch 110, loss 0.39\n",
      "epoch 111, loss 0.38\n",
      "epoch 112, loss 0.38\n",
      "epoch 113, loss 0.38\n",
      "epoch 114, loss 0.36\n",
      "epoch 115, loss 0.36\n",
      "epoch 116, loss 0.36\n",
      "epoch 117, loss 0.36\n",
      "epoch 118, loss 0.36\n",
      "epoch 119, loss 0.35\n",
      "epoch 120, loss 0.35\n",
      "epoch 121, loss 0.36\n",
      "epoch 122, loss 0.34\n",
      "epoch 123, loss 0.35\n",
      "epoch 124, loss 0.33\n",
      "epoch 125, loss 0.33\n",
      "epoch 126, loss 0.32\n",
      "epoch 127, loss 0.34\n",
      "epoch 128, loss 0.32\n",
      "epoch 129, loss 0.33\n",
      "epoch 130, loss 0.31\n",
      "epoch 131, loss 0.30\n",
      "epoch 132, loss 0.31\n",
      "epoch 133, loss 0.31\n",
      "epoch 134, loss 0.30\n",
      "epoch 135, loss 0.29\n",
      "epoch 136, loss 0.29\n",
      "epoch 137, loss 0.29\n",
      "epoch 138, loss 0.28\n",
      "epoch 139, loss 0.29\n",
      "epoch 140, loss 0.28\n",
      "epoch 141, loss 0.27\n",
      "epoch 142, loss 0.27\n",
      "epoch 143, loss 0.28\n",
      "epoch 144, loss 0.27\n",
      "epoch 145, loss 0.27\n",
      "epoch 146, loss 0.26\n",
      "epoch 147, loss 0.26\n",
      "epoch 148, loss 0.26\n",
      "epoch 149, loss 0.26\n",
      "epoch 150, loss 0.25\n",
      "epoch 151, loss 0.25\n",
      "epoch 152, loss 0.25\n",
      "epoch 153, loss 0.24\n",
      "epoch 154, loss 0.24\n",
      "epoch 155, loss 0.24\n",
      "epoch 156, loss 0.24\n",
      "epoch 157, loss 0.24\n",
      "epoch 158, loss 0.24\n",
      "epoch 159, loss 0.23\n",
      "epoch 160, loss 0.23\n",
      "epoch 161, loss 0.23\n",
      "epoch 162, loss 0.23\n",
      "epoch 163, loss 0.23\n",
      "epoch 164, loss 0.22\n",
      "epoch 165, loss 0.22\n",
      "epoch 166, loss 0.22\n",
      "epoch 167, loss 0.21\n",
      "epoch 168, loss 0.22\n",
      "epoch 169, loss 0.22\n",
      "epoch 170, loss 0.21\n",
      "epoch 171, loss 0.21\n",
      "epoch 172, loss 0.22\n",
      "epoch 173, loss 0.22\n",
      "epoch 174, loss 0.21\n",
      "epoch 175, loss 0.21\n",
      "epoch 176, loss 0.20\n",
      "epoch 177, loss 0.21\n",
      "epoch 178, loss 0.20\n",
      "epoch 179, loss 0.20\n",
      "epoch 180, loss 0.20\n",
      "epoch 181, loss 0.20\n",
      "epoch 182, loss 0.19\n",
      "epoch 183, loss 0.20\n",
      "epoch 184, loss 0.19\n",
      "epoch 185, loss 0.19\n",
      "epoch 186, loss 0.19\n",
      "epoch 187, loss 0.19\n",
      "epoch 188, loss 0.19\n",
      "epoch 189, loss 0.19\n",
      "epoch 190, loss 0.19\n",
      "epoch 191, loss 0.19\n",
      "epoch 192, loss 0.19\n",
      "epoch 193, loss 0.18\n",
      "epoch 194, loss 0.19\n",
      "epoch 195, loss 0.18\n",
      "epoch 196, loss 0.18\n",
      "epoch 197, loss 0.18\n",
      "epoch 198, loss 0.18\n",
      "epoch 199, loss 0.19\n",
      "epoch 200, loss 0.18\n",
      "epoch 201, loss 0.17\n",
      "epoch 202, loss 0.18\n",
      "epoch 203, loss 0.18\n",
      "epoch 204, loss 0.17\n",
      "epoch 205, loss 0.18\n",
      "epoch 206, loss 0.17\n",
      "epoch 207, loss 0.17\n",
      "epoch 208, loss 0.17\n",
      "epoch 209, loss 0.17\n",
      "epoch 210, loss 0.17\n",
      "epoch 211, loss 0.17\n",
      "epoch 212, loss 0.17\n",
      "epoch 213, loss 0.18\n",
      "epoch 214, loss 0.17\n",
      "epoch 215, loss 0.17\n",
      "epoch 216, loss 0.17\n",
      "epoch 217, loss 0.17\n",
      "epoch 218, loss 0.17\n",
      "epoch 219, loss 0.16\n",
      "epoch 220, loss 0.17\n",
      "epoch 221, loss 0.16\n",
      "epoch 222, loss 0.16\n",
      "epoch 223, loss 0.16\n",
      "epoch 224, loss 0.16\n",
      "epoch 225, loss 0.16\n",
      "epoch 226, loss 0.16\n",
      "epoch 227, loss 0.17\n",
      "epoch 228, loss 0.18\n",
      "epoch 229, loss 0.16\n",
      "epoch 230, loss 0.16\n",
      "epoch 231, loss 0.15\n",
      "epoch 232, loss 0.16\n",
      "epoch 233, loss 0.17\n",
      "epoch 234, loss 0.16\n",
      "epoch 235, loss 0.16\n",
      "epoch 236, loss 0.15\n",
      "epoch 237, loss 0.16\n",
      "epoch 238, loss 0.16\n",
      "epoch 239, loss 0.16\n",
      "epoch 240, loss 0.16\n",
      "epoch 241, loss 0.15\n",
      "epoch 242, loss 0.15\n",
      "epoch 243, loss 0.15\n",
      "epoch 244, loss 0.15\n",
      "epoch 245, loss 0.15\n",
      "epoch 246, loss 0.15\n",
      "epoch 247, loss 0.15\n",
      "epoch 248, loss 0.15\n",
      "epoch 249, loss 0.15\n",
      "epoch 250, loss 0.15\n",
      "epoch 251, loss 0.15\n",
      "epoch 252, loss 0.15\n",
      "epoch 253, loss 0.15\n",
      "epoch 254, loss 0.15\n",
      "epoch 255, loss 0.15\n",
      "epoch 256, loss 0.15\n",
      "epoch 257, loss 0.14\n",
      "epoch 258, loss 0.15\n",
      "epoch 259, loss 0.14\n",
      "epoch 260, loss 0.15\n",
      "epoch 261, loss 0.15\n",
      "epoch 262, loss 0.15\n",
      "epoch 263, loss 0.14\n",
      "epoch 264, loss 0.14\n",
      "epoch 265, loss 0.14\n",
      "epoch 266, loss 0.14\n",
      "epoch 267, loss 0.14\n",
      "epoch 268, loss 0.14\n",
      "epoch 269, loss 0.14\n",
      "epoch 270, loss 0.14\n",
      "epoch 271, loss 0.14\n",
      "epoch 272, loss 0.14\n",
      "epoch 273, loss 0.14\n",
      "epoch 274, loss 0.14\n",
      "epoch 275, loss 0.14\n",
      "epoch 276, loss 0.14\n",
      "epoch 277, loss 0.14\n",
      "epoch 278, loss 0.14\n",
      "epoch 279, loss 0.14\n",
      "epoch 280, loss 0.13\n",
      "epoch 281, loss 0.13\n",
      "epoch 282, loss 0.14\n",
      "epoch 283, loss 0.13\n",
      "epoch 284, loss 0.13\n",
      "epoch 285, loss 0.13\n",
      "epoch 286, loss 0.13\n",
      "epoch 287, loss 0.14\n",
      "epoch 288, loss 0.13\n",
      "epoch 289, loss 0.13\n",
      "epoch 290, loss 0.13\n",
      "epoch 291, loss 0.13\n",
      "epoch 292, loss 0.13\n",
      "epoch 293, loss 0.14\n",
      "epoch 294, loss 0.13\n",
      "epoch 295, loss 0.13\n",
      "epoch 296, loss 0.13\n",
      "epoch 297, loss 0.13\n",
      "epoch 298, loss 0.12\n",
      "epoch 299, loss 0.13\n",
      "epoch 300, loss 0.13\n"
     ]
    }
   ],
   "source": [
    "# Hyperparameters\n",
    "max_epoch = 300\n",
    "batch_size = 30\n",
    "hidden_size = 10\n",
    "lr = 1.0\n",
    "\n",
    "x, t = dezero.datasets.get_spiral(train=True)\n",
    "model = MLP((hidden_size, 3))\n",
    "optimizer = optimizers.SGD(lr).setup(model)\n",
    "\n",
    "data_size = len(x)\n",
    "max_iter = math.ceil(data_size / batch_size)\n",
    "losses=[]\n",
    "for epoch in range(max_epoch):\n",
    "    # Shuffle index for data\n",
    "    index = np.random.permutation(data_size)\n",
    "    sum_loss = 0\n",
    "\n",
    "    for i in range(max_iter):\n",
    "        batch_index = index[i * batch_size:(i + 1) * batch_size]\n",
    "        batch_x = x[batch_index]\n",
    "        batch_t = t[batch_index]\n",
    "\n",
    "        y = model(batch_x)\n",
    "        loss = F.softmax_cross_entropy(y, batch_t)\n",
    "        model.cleargrads()\n",
    "        loss.backward()\n",
    "        optimizer.update()\n",
    "\n",
    "        sum_loss += float(loss.data) * len(batch_t)\n",
    "\n",
    "    # Print loss every epoch\n",
    "    avg_loss = sum_loss / data_size\n",
    "    losses.append(avg_loss)\n",
    "    print('epoch %d, loss %.2f' % (epoch + 1, avg_loss))\n",
    "\n"
   ]
  },
  {
   "cell_type": "code",
   "execution_count": 73,
   "metadata": {},
   "outputs": [
    {
     "data": {
      "text/plain": [
       "[<matplotlib.lines.Line2D at 0x11a8681f0>]"
      ]
     },
     "execution_count": 73,
     "metadata": {},
     "output_type": "execute_result"
    },
    {
     "data": {
      "image/png": "[encoded data removed]",
      "text/plain": [
       "<Figure size 432x288 with 1 Axes>"
      ]
     },
     "metadata": {
      "needs_background": "light"
     },
     "output_type": "display_data"
    }
   ],
   "source": [
    "plt.plot(range(len(losses)), losses)\n"
   ]
  },
  {
   "cell_type": "code",
   "execution_count": 74,
   "metadata": {},
   "outputs": [],
   "source": [
    "import numpy as np\n",
    "\n",
    "class Dataset:\n",
    "    def __init__(self, train=True):\n",
    "        self.train = train\n",
    "        self.data = None\n",
    "        self.label = None\n",
    "        self.prepare()\n",
    "        \n",
    "    def __getitem__(self, idx):\n",
    "        assert np.isscalar(idx)\n",
    "        if self.label is None:\n",
    "            return self.data[idx]\n",
    "        else:\n",
    "            return self.data[idx], self.label[idx]\n",
    "        \n",
    "    def __len__(self):\n",
    "        return len(self.data)\n",
    "    \n",
    "    def prepare(self):\n",
    "        pass"
   ]
  },
  {
   "cell_type": "code",
   "execution_count": 75,
   "metadata": {},
   "outputs": [],
   "source": [
    "class Spiral(Dataset):\n",
    "    def prepare(self):\n",
    "        self.data, self.label = get_spiral(self.train)"
   ]
  },
  {
   "cell_type": "code",
   "execution_count": 76,
   "metadata": {},
   "outputs": [
    {
     "name": "stdout",
     "output_type": "stream",
     "text": [
      "(array([-0.13981389, -0.00721657], dtype=float32), 1)\n",
      "300\n"
     ]
    }
   ],
   "source": [
    "trainset = dezero.datasets.Spiral(train=True)\n",
    "print(trainset[0])\n",
    "print(len(trainset))"
   ]
  },
  {
   "cell_type": "code",
   "execution_count": 77,
   "metadata": {},
   "outputs": [],
   "source": [
    "class BigData(Dataset):\n",
    "    def __getitem__(idx):\n",
    "        x = np.load('./data/{}.npy'.format(idx))\n",
    "        t = np.load('./label/{}.py'.format(idx))\n",
    "        return x,t\n",
    "    \n",
    "    def __len__():\n",
    "        return 1000000"
   ]
  },
  {
   "cell_type": "code",
   "execution_count": 78,
   "metadata": {},
   "outputs": [],
   "source": [
    "train_set = dezero.datasets.Spiral()\n",
    "\n",
    "batch_idx = [0,1,2]\n",
    "batch = [train_set[i] for i in batch_idx]\n",
    "\n",
    "x = np.array([example[0] for example in batch])\n",
    "t = np.array([example[1] for example in batch])\n"
   ]
  },
  {
   "cell_type": "code",
   "execution_count": 79,
   "metadata": {},
   "outputs": [
    {
     "data": {
      "text/plain": [
       "((3, 2), (3,))"
      ]
     },
     "execution_count": 79,
     "metadata": {},
     "output_type": "execute_result"
    }
   ],
   "source": [
    "x.shape, t.shape"
   ]
  },
  {
   "cell_type": "code",
   "execution_count": 80,
   "metadata": {},
   "outputs": [],
   "source": [
    "class MyIterator:\n",
    "    def __init__(self, max_cnt):\n",
    "        self.max_cnt = max_cnt\n",
    "        self.cnt=0\n",
    "        \n",
    "    def __iter__(self):\n",
    "        return self\n",
    "    \n",
    "    def __next__(self):\n",
    "        if self.cnt ==self.max_cnt:\n",
    "            raise StopIteration()\n",
    "            \n",
    "        self.cnt +=1\n",
    "        return self.cnt"
   ]
  },
  {
   "cell_type": "code",
   "execution_count": 81,
   "metadata": {},
   "outputs": [
    {
     "name": "stdout",
     "output_type": "stream",
     "text": [
      "1\n",
      "2\n",
      "3\n",
      "4\n",
      "5\n"
     ]
    }
   ],
   "source": [
    "obj = MyIterator(5)\n",
    "for x in obj:\n",
    "    print(x)"
   ]
  },
  {
   "cell_type": "code",
   "execution_count": 83,
   "metadata": {},
   "outputs": [],
   "source": [
    "class DataLoader:\n",
    "    def __init__(self, dataset, batch_size, shuffle=True):\n",
    "        self.dataset = dataset\n",
    "        self.batchsize = batch_size\n",
    "        self.shuffle = shuffle\n",
    "        self.data_size = len(dataset)\n",
    "        self.max_iter = math.ceil(self.data_size/batch_size)\n",
    "        self.reset()\n",
    "        \n",
    "    def reset(self):\n",
    "        self.iteration=0\n",
    "        if self.shuffle:\n",
    "            self.idx = np.random.permutation(len(self.dataset))\n",
    "        else:\n",
    "            self.idx = np.arange(len(self.dataset))\n",
    "            \n",
    "    def __iter__(self):\n",
    "        return self\n",
    "    \n",
    "    def __next__(self):\n",
    "        if self.iteration >= self.max_iter:\n",
    "            self.reset()\n",
    "            raise StopIteration\n",
    "            \n",
    "        i, batch__size = self.iteration, self.batch_size\n",
    "        batch_idx = self.idx[i*batch_size:[i+1]*batch_size]\n",
    "        batch = [self.dataset[i] for i in batch_idx]\n",
    "        x = np.array([example[0] for example in batch])\n",
    "        t = np.array([example[1] for example in batch])\n",
    "        self.iteration +=1\n",
    "        return x,t\n",
    "    \n",
    "    def next(self):\n",
    "        return self.__next__()"
   ]
  },
  {
   "cell_type": "code",
   "execution_count": 84,
   "metadata": {},
   "outputs": [],
   "source": [
    "def accuracy(y,t):\n",
    "    y,t =as_variable(y), as_variable(t)\n",
    "    pred = y.data.argmax(axis=1).reshape(t.shape)\n",
    "    result = (pred == t.data)\n",
    "    acc = result.mean()\n",
    "    return Variable(as_array(acc))"
   ]
  },
  {
   "cell_type": "code",
   "execution_count": null,
   "metadata": {},
   "outputs": [],
   "source": []
  }
 ],
 "metadata": {
  "kernelspec": {
   "display_name": "learning",
   "language": "python",
   "name": "learning"
  },
  "language_info": {
   "codemirror_mode": {
    "name": "ipython",
    "version": 3
   },
   "file_extension": ".py",
   "mimetype": "text/x-python",
   "name": "python",
   "nbconvert_exporter": "python",
   "pygments_lexer": "ipython3",
   "version": "3.8.2"
  }
 },
 "nbformat": 4,
 "nbformat_minor": 4
}
