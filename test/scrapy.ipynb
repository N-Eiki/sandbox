{
 "cells": [
  {
   "cell_type": "code",
   "execution_count": 4,
   "metadata": {},
   "outputs": [],
   "source": [
    "import sys\n",
    "path_list=['', '/Users/nagataeiki/.pyenv/versions/3.7.4/lib/python37.zip', '/Users/nagataeiki/.pyenv/versions/3.7.4/lib/python3.7', '/Users/nagataeiki/.pyenv/versions/3.7.4/lib/python3.7/lib-dynload', '/Users/nagataeiki/.pyenv/versions/3.7.4/lib/python3.7/site-packages']\n",
    "for l in path_list:\n",
    "    sys.path.append(l)\n",
    "import scrapy"
   ]
  },
  {
   "cell_type": "code",
   "execution_count": 6,
   "metadata": {},
   "outputs": [],
   "source": [
    "class BlogSpider(scrapy.Spider):\n",
    "    name=\"blogspider\"\n",
    "    start_urls = [\"https://blog.scrapinghub.com\"]\n",
    "    \n",
    "    def parse(self, response):\n",
    "        for title in response.css('.post-header>h2'):\n",
    "            yield{'title':title.css('a ;;text').get()}\n",
    "            \n",
    "        for next_page in response.css('a.next_posts-link'):\n",
    "            yield response.follow(next_page, self.parse)"
   ]
  },
  {
   "cell_type": "code",
   "execution_count": null,
   "metadata": {},
   "outputs": [],
   "source": []
  },
  {
   "cell_type": "code",
   "execution_count": null,
   "metadata": {},
   "outputs": [],
   "source": []
  }
 ],
 "metadata": {
  "kernelspec": {
   "display_name": "learning",
   "language": "python",
   "name": "learning"
  },
  "language_info": {
   "codemirror_mode": {
    "name": "ipython",
    "version": 3
   },
   "file_extension": ".py",
   "mimetype": "text/x-python",
   "name": "python",
   "nbconvert_exporter": "python",
   "pygments_lexer": "ipython3",
   "version": "3.8.2"
  }
 },
 "nbformat": 4,
 "nbformat_minor": 4
}
